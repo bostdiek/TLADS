{
 "cells": [
  {
   "cell_type": "markdown",
   "metadata": {},
   "source": [
    "# Exploring Data Sets and Formulating a Hypothesis\n",
    "\n",
    "In this section, you will explore the provided data sets to understand their structure and content. Follow the steps below to guide your exploration and hypothesis formulation:\n",
    "\n",
    "1. **Load the Data Sets**: Begin by loading the data sets into your environment. Use appropriate libraries such as `pandas` to read the data files.\n",
    "\n",
    "2. **Inspect the Data**: Examine the first few rows of each data set using functions like `head()`. Check for missing values, data types, and overall structure.\n",
    "\n",
    "3. **Summary Statistics**: Generate summary statistics for numerical columns using `describe()`. This will give you an overview of the central tendency, dispersion, and shape of the data distribution.\n",
    "\n",
    "4. **Data Visualization**: Create visualizations to identify patterns, trends, and outliers. Use libraries such as `matplotlib` and `seaborn` to create plots like histograms, scatter plots, and box plots.\n",
    "\n",
    "5. **Identify Relationships**: Look for relationships between different variables. Use correlation matrices and pair plots to identify potential connections.\n",
    "\n",
    "6. **Formulate a Hypothesis**: Based on your exploration, come up with a hypothesis that you can test. A hypothesis is a statement that can be tested by further analysis and experimentation.\n",
    "\n",
    "7. **Document Your Findings**: Keep detailed notes of your observations and the steps you took during your exploration. This documentation will be valuable for future reference and for communicating your findings to others.\n",
    "\n",
    "By following these steps, you will gain a thorough understanding of the data sets and be well-prepared to formulate a meaningful hypothesis."
   ]
  },
  {
   "cell_type": "markdown",
   "metadata": {},
   "source": [
    "**Goal**: From your EDA, formulate 1 (or more) hypothesis that you'd like to test in a future analysis. This hypothesis should be based on the patterns and relationships you observed during your exploration."
   ]
  },
  {
   "cell_type": "markdown",
   "metadata": {},
   "source": [
    "## Imports and loading data\n"
   ]
  },
  {
   "cell_type": "code",
   "execution_count": 1,
   "metadata": {},
   "outputs": [],
   "source": [
    "import pandas as pd\n",
    "import numpy as np\n",
    "import matplotlib.pyplot as plt\n",
    "import seaborn as sns"
   ]
  },
  {
   "cell_type": "code",
   "execution_count": 2,
   "metadata": {},
   "outputs": [],
   "source": [
    "plt.rcParams.update({'font.family': 'cmr10',\n",
    "                     'font.size': 12,\n",
    "                     'axes.unicode_minus': False,\n",
    "                     'axes.labelsize': 12,\n",
    "                     'figure.figsize': (3, 3),\n",
    "                     'figure.dpi': 80,\n",
    "                     'mathtext.fontset': 'cm',\n",
    "                     'mathtext.rm': 'serif',\n",
    "                     'xtick.direction': 'in',\n",
    "                     'ytick.direction': 'in',\n",
    "                     'xtick.top': True,\n",
    "                     'ytick.right': True\n",
    "                     })"
   ]
  },
  {
   "cell_type": "code",
   "execution_count": 3,
   "metadata": {},
   "outputs": [],
   "source": [
    "bike = pd.read_csv(\"../../data/fremont-bridge-bicycle-counts-exercise 2.csv\")\n",
    "weather = pd.read_csv(\"../../data/NOAA_Seattle-data 2.csv\")"
   ]
  },
  {
   "cell_type": "markdown",
   "metadata": {},
   "source": [
    "**NOTE**: Not all of the columns in the weather data are easily interpretable. The following data dictionary may help you understand the data better:\n",
    "\n",
    "- AWND: Average daily wind speed.\n",
    "- PGTM: Peak gust time, the time of the peak wind gust.\n",
    "- PRCP: Precipitation, the total amount of precipitation for the day.\n",
    "- SNOW: Snowfall, the total amount of snowfall for the day.\n",
    "- SNWD: Snow depth, the depth of snow on the ground.\n",
    "- TAVG: Average temperature for the day.\n",
    "- TMAX: Maximum temperature for the day.\n",
    "- TMIN: Minimum temperature for the day.\n",
    "- WDF2: Direction of the fastest 2-minute wind.\n",
    "- WDF5: Direction of the fastest 5-minute wind.\n",
    "- WSF2: Fastest 2-minute wind speed.\n",
    "- WSF5: Fastest 5-minute wind speed"
   ]
  }
 ],
 "metadata": {
  "kernelspec": {
   "display_name": "Python 3",
   "language": "python",
   "name": "python3"
  },
  "language_info": {
   "codemirror_mode": {
    "name": "ipython",
    "version": 3
   },
   "file_extension": ".py",
   "mimetype": "text/x-python",
   "name": "python",
   "nbconvert_exporter": "python",
   "pygments_lexer": "ipython3",
   "version": "3.12.8"
  }
 },
 "nbformat": 4,
 "nbformat_minor": 2
}
