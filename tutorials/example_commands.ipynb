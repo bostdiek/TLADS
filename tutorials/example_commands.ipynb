{
 "cells": [
  {
   "cell_type": "markdown",
   "metadata": {},
   "source": [
    "# Example Commands for Data Generation and Visualization\n",
    "\n",
    "This Jupyter Notebook demonstrates how to generate synthetic datasets and visualize them using Python libraries such as `matplotlib`, `numpy`, and `pandas`. The notebook includes the following steps:\n",
    "\n",
    "1. **Importing Libraries**: Importing necessary libraries for data manipulation and visualization.\n",
    "2. **Setting Plot Parameters**: Configuring `matplotlib` plot parameters for consistent styling.\n",
    "3. **Generating Synthetic Data**: Creating two sets of points with Gaussian distributions centered at different coordinates.\n",
    "4. **Descriptive Statistics**: Displaying descriptive statistics and the first few rows of the generated datasets.\n",
    "5. **Data Labeling and Combination**: Adding labels to the datasets, combining them, and shuffling the combined dataset.\n",
    "6. **Data Analysis**: Performing group-by operations to show counts and aggregate statistics (mean, standard deviation) for each label.\n",
    "7. **Data Visualization**: \n",
    "   - Creating boxplots for the features.\n",
    "   - Plotting histograms to show the distribution of the features.\n",
    "   - Generating scatter plots to visualize the relationship between the features, including a scatter plot with different colors for each class.\n",
    "\n",
    "This notebook is useful for demonstrating basic data manipulation, statistical analysis, and visualization techniques in Python."
   ]
  },
  {
   "cell_type": "code",
   "execution_count": null,
   "metadata": {},
   "outputs": [],
   "source": [
    "import matplotlib.pyplot as plt\n",
    "import numpy as np\n",
    "import pandas as pd"
   ]
  },
  {
   "cell_type": "code",
   "execution_count": null,
   "metadata": {},
   "outputs": [],
   "source": [
    "plt.rcParams.update({'font.family': 'cmr10',\n",
    "                     'font.size': 12,\n",
    "                     'axes.unicode_minus': False,\n",
    "                     'axes.labelsize': 12,\n",
    "                     'figure.figsize': (3, 3),\n",
    "                     'figure.dpi': 80,\n",
    "                     'mathtext.fontset': 'cm',\n",
    "                     'mathtext.rm': 'serif',\n",
    "                     'xtick.direction': 'in',\n",
    "                     'ytick.direction': 'in',\n",
    "                     'xtick.top': True,\n",
    "                     'ytick.right': True\n",
    "                     })"
   ]
  },
  {
   "cell_type": "code",
   "execution_count": null,
   "metadata": {},
   "outputs": [],
   "source": [
    "# Make a dataset with x and y that has two gaussian peaks\n",
    "CENTER1X = 0.5\n",
    "CENTER2X = 1.5\n",
    "CENTER1Y = 1.5\n",
    "CENTER2Y = 0.5\n",
    "SIGMA = 0.5\n",
    "# Create a grid of points\n",
    "POINTS_1 = []\n",
    "for count in range(200):\n",
    "    x = np.random.normal(CENTER1X, SIGMA)\n",
    "    y = np.random.normal(CENTER1Y, SIGMA)\n",
    "    POINTS_1.append([x, y])\n",
    "POINTS_1 = np.array(POINTS_1)\n",
    "POINTS_1 = pd.DataFrame(POINTS_1, columns=['x', 'y'])\n",
    "\n",
    "POINTS_2 = []\n",
    "for count in range(300):\n",
    "    x = np.random.normal(CENTER2X, SIGMA)\n",
    "    y = np.random.normal(CENTER2Y, SIGMA)\n",
    "    POINTS_2.append([x, y])\n",
    "POINTS_2 = np.array(POINTS_2)\n",
    "POINTS_2 = pd.DataFrame(POINTS_2, columns=['x', 'y'])\n"
   ]
  },
  {
   "cell_type": "code",
   "execution_count": null,
   "metadata": {},
   "outputs": [],
   "source": [
    "POINTS_1.describe()"
   ]
  },
  {
   "cell_type": "code",
   "execution_count": null,
   "metadata": {},
   "outputs": [],
   "source": [
    "POINTS_2.head(5)"
   ]
  },
  {
   "cell_type": "code",
   "execution_count": null,
   "metadata": {},
   "outputs": [],
   "source": [
    "# Add a \"label\" column to the dataframes\n",
    "POINTS_1['label'] = 0\n",
    "POINTS_2['label'] = 1\n",
    "# Combine the two dataframes\n",
    "POINTS = pd.concat([POINTS_1, POINTS_2], ignore_index=True)\n",
    "# Shuffle the data\n",
    "POINTS = POINTS.sample(frac=1).reset_index(drop=True)"
   ]
  },
  {
   "cell_type": "code",
   "execution_count": null,
   "metadata": {},
   "outputs": [],
   "source": [
    "POINTS.head(5)"
   ]
  },
  {
   "cell_type": "code",
   "execution_count": null,
   "metadata": {},
   "outputs": [],
   "source": [
    "# Example pandas commands: show a groupby\n",
    "POINTS.groupby(['label']).count().reset_index(drop=True)"
   ]
  },
  {
   "cell_type": "code",
   "execution_count": null,
   "metadata": {},
   "outputs": [],
   "source": [
    "# Example pandas commands: show a groupby\n",
    "POINTS.groupby(['label']).agg([\"mean\", \"std\"])"
   ]
  },
  {
   "cell_type": "code",
   "execution_count": null,
   "metadata": {},
   "outputs": [],
   "source": [
    "# Make a boxplot of each feature\n",
    "plt.figure(figsize=(5, 5))\n",
    "\n",
    "plt.boxplot([POINTS['x'],\n",
    "             POINTS['y']],\n",
    "            labels=['x', 'y'],\n",
    "            patch_artist=True,\n",
    "            boxprops=dict(facecolor='white', color='black'),\n",
    "            medianprops=dict(color='red'),\n",
    "            whiskerprops=dict(color='black'),\n",
    "            flierprops=dict(marker='o', markerfacecolor='red', markersize=5, linestyle='none'),\n",
    ")\n",
    "plt.ylabel('Value')\n",
    "plt.xlabel('Feature')\n",
    "plt.title('Boxplot of Features')\n",
    "plt.show()"
   ]
  },
  {
   "cell_type": "markdown",
   "metadata": {},
   "source": [
    "While the medians are at different values, the max, min, and quantiles are otherwise similar. Maybe let's plot the dsitribution of the two datasets to see if they are similar."
   ]
  },
  {
   "cell_type": "code",
   "execution_count": null,
   "metadata": {},
   "outputs": [],
   "source": [
    "plt.figure(figsize=(5, 5))\n",
    "plt.hist(POINTS['x'], bins=np.linspace(0, 2, 21), alpha=0.5, label='x', color='C0')\n",
    "plt.hist(POINTS['y'], bins=np.linspace(0, 2, 21), alpha=0.5, label='y', color='C1')\n",
    "plt.xlabel('Value')\n",
    "plt.ylabel('Count')\n",
    "plt.title('Histogram of Features')\n",
    "plt.legend()\n",
    "plt.show()"
   ]
  },
  {
   "cell_type": "markdown",
   "metadata": {},
   "source": [
    "We can also make scatter plots"
   ]
  },
  {
   "cell_type": "code",
   "execution_count": null,
   "metadata": {},
   "outputs": [],
   "source": [
    "plt.figure(figsize=(5, 5))\n",
    "plt.scatter(POINTS['x'], POINTS['y'])"
   ]
  },
  {
   "cell_type": "code",
   "execution_count": null,
   "metadata": {},
   "outputs": [],
   "source": [
    "plt.figure(figsize=(5, 5))\n",
    "\n",
    "class_1 = POINTS[POINTS['label'] == 0]\n",
    "class_2 = POINTS[POINTS['label'] == 1]\n",
    "plt.scatter(class_1['x'], class_1['y'], label='Class 1', color='C0')\n",
    "plt.scatter(class_2['x'], class_2['y'], label='Class 2', color='C1')\n",
    "plt.xlabel('x')\n",
    "plt.ylabel('y')\n",
    "plt.title('Scatter Plot of Features')\n",
    "plt.legend()\n",
    "plt.show()"
   ]
  },
  {
   "cell_type": "code",
   "execution_count": null,
   "metadata": {},
   "outputs": [],
   "source": []
  }
 ],
 "metadata": {
  "kernelspec": {
   "display_name": "Python 3",
   "language": "python",
   "name": "python3"
  },
  "language_info": {
   "codemirror_mode": {
    "name": "ipython",
    "version": 3
   },
   "file_extension": ".py",
   "mimetype": "text/x-python",
   "name": "python",
   "nbconvert_exporter": "python",
   "pygments_lexer": "ipython3",
   "version": "3.12.8"
  }
 },
 "nbformat": 4,
 "nbformat_minor": 2
}
